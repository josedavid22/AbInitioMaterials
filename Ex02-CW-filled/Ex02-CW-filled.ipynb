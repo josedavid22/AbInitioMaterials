{
 "cells": [
  {
   "cell_type": "markdown",
   "id": "40413671",
   "metadata": {},
   "source": [
    "# Materials design by *ab initio* methods (MDAM)\n",
    "\n",
    "Prof. Blazej Grabowski, Dr. Yuji Ikeda\n",
    "\n",
    "Department of Materials Design, University of Stuttgart"
   ]
  },
  {
   "cell_type": "markdown",
   "id": "5fddaa1d",
   "metadata": {},
   "source": [
    "# Class work 02: Schrödinger equation in 1D real space"
   ]
  },
  {
   "cell_type": "code",
   "execution_count": null,
   "id": "73d9f7c8",
   "metadata": {},
   "outputs": [],
   "source": [
    "import numpy as np"
   ]
  },
  {
   "cell_type": "markdown",
   "id": "22feeecf",
   "metadata": {},
   "source": [
    "## Eigenproblem with NumPy\n",
    "\n",
    "In quantum-mechanics-based simulations, including *ab initio* calculations, eigenvalue problems are the most important to understand the physics.\n",
    "An eigenvalue $\\lambda$ and the corresponding eigenvector $\\mathbf{x}$ of a matrix $A$ satisfy\n",
    "\n",
    "\\begin{align}\n",
    "A \\mathbf{x} = \\lambda \\mathbf{x}.\n",
    "\\end{align}\n",
    "\n",
    "Since in most *ab initio* calculations $A$ is Hermitian, i.e., $A^\\dagger = A$, we focus on Hermitian matrices.\n",
    "If all the elements are real, the Hermitian matrix is actually symmetric, i.e., $A^\\mathrm{T} = A$.\n",
    "\n",
    "In NumPy, we can easily solve the eigenproblem of an Hermitian matrix using [`np.linalg.eigh`](https://numpy.org/doc/stable/reference/generated/numpy.linalg.eigh.html). Let's do this for the matrix:\n",
    "\n",
    "$$\n",
    "A = \n",
    "\\begin{pmatrix}\n",
    " 2 &  2 & -1 \\\\\n",
    " 2 & -1 &  2 \\\\\n",
    "-1 &  2 &  2 \\\\\n",
    "\\end{pmatrix}.\n",
    "$$"
   ]
  },
  {
   "cell_type": "code",
   "execution_count": null,
   "id": "318784d4",
   "metadata": {},
   "outputs": [],
   "source": [
    "A = [\n",
    "    [2, 2, -1],\n",
    "    [2, -1, 2],\n",
    "    [-1, 2, 2],\n",
    "]\n",
    "w, v = np.linalg.eigh(A)   # w are the eigenvalues, v are the eigenvectors\n",
    "w, v"
   ]
  },
  {
   "cell_type": "markdown",
   "id": "e405bc5e",
   "metadata": {},
   "source": [
    "**All the eigenvalues of a Hermitian matrix are real.**\n",
    "\n",
    "In the `np.linalg.eigh` method, the computed eigenvalues are already sorted in ascending order.\n",
    "\n",
    "Let's check whether the obtained eigenvalues and eigenvectors satisfy the equation above."
   ]
  },
  {
   "cell_type": "code",
   "execution_count": null,
   "id": "eb36fac7",
   "metadata": {},
   "outputs": [],
   "source": [
    "i = 2  # Check the first eigenstate\n",
    "print(A @ v[:, i])  # LHS\n",
    "print(w[i] * v[:, i])  # RHS"
   ]
  },
  {
   "cell_type": "markdown",
   "id": "84081af9",
   "metadata": {},
   "source": [
    "The operator `@` is for the matrix product (`A @ B`). You can also use `np.dot(A, B)`.\n",
    "\n",
    "**Eigenvectors of a Hermitian matrix are orthonormalized**, i.e.,"
   ]
  },
  {
   "cell_type": "code",
   "execution_count": null,
   "id": "18ceee3e",
   "metadata": {},
   "outputs": [],
   "source": [
    "print(v[:, 0] @ v[:, 0])  # substantially 1\n",
    "print(v[:, 0] @ v[:, 1])  # substantially 0"
   ]
  },
  {
   "cell_type": "markdown",
   "id": "363e37b4",
   "metadata": {},
   "source": [
    "We also notice that, among the three eigenvalues, two are the same.\n",
    "We refer to such a case as \"**two eigenstates are degenerate**\".\n",
    "Then, any arbitrary linear combination of the degenerate eigenvectors is also an eigenvector of the corresponding eigenvalue.\n",
    "Let's confirm this."
   ]
  },
  {
   "cell_type": "code",
   "execution_count": null,
   "id": "9a29502b",
   "metadata": {},
   "outputs": [],
   "source": [
    "# Take a certain linear combination of the two eigenvectors.\n",
    "w_new = w[1]\n",
    "v_new = 2.0 * v[:, 1] + v[:, 2]\n",
    "print(A @ v_new)\n",
    "print(w_new * v_new)"
   ]
  },
  {
   "cell_type": "markdown",
   "id": "d849fc4d",
   "metadata": {},
   "source": [
    "## ***Problem:*** Pauli matrices\n",
    "\n",
    "Compute the eigenvalues and eigenvectors of the following [Pauli matrices](https://en.wikipedia.org/wiki/Pauli_matrices) and do a similar check as above:\n",
    "\n",
    "\\begin{align}\n",
    "\\sigma_1 =\n",
    "\\begin{pmatrix}\n",
    "0 & 1 \\\\\n",
    "1 & 0 \\\\\n",
    "\\end{pmatrix},\\quad\n",
    "\\sigma_2 =\n",
    "\\begin{pmatrix}\n",
    "0 & -i \\\\\n",
    "i &  0 \\\\\n",
    "\\end{pmatrix},\\quad\n",
    "\\sigma_3 =\n",
    "\\begin{pmatrix}\n",
    "1 &  0 \\\\\n",
    "0 & -1 \\\\\n",
    "\\end{pmatrix}.\n",
    "\\end{align}\n",
    "\n",
    "Hint: In Python, a complex number, e.g., 2 + 1*i* is expressed as `2 + 1j`, where `j` indicates the imaginary unit."
   ]
  },
  {
   "cell_type": "code",
   "execution_count": null,
   "id": "12ae1e4a",
   "metadata": {},
   "outputs": [],
   "source": [
    "# to_be_filled\n",
    "sigma1 = [[0, 1], [1, 0]]\n",
    "sigma2 = [[0, -1j], [1j, 0]]\n",
    "sigma3 = [[1, 0], [0, -1]]"
   ]
  },
  {
   "cell_type": "code",
   "execution_count": null,
   "id": "35ac5ce5",
   "metadata": {},
   "outputs": [],
   "source": [
    "# to_be_filled\n",
    "values, vectors = np.linalg.eigh(sigma1)"
   ]
  },
  {
   "cell_type": "code",
   "execution_count": null,
   "id": "02922f70",
   "metadata": {},
   "outputs": [],
   "source": [
    "# to_be_filled\n",
    "i = 1\n",
    "print(sigma1 @ vectors[:, i])\n",
    "print(values[i] * vectors[:, i])"
   ]
  },
  {
   "cell_type": "code",
   "execution_count": null,
   "id": "84e30bdb",
   "metadata": {},
   "outputs": [],
   "source": [
    "# to_be_filled\n",
    "np.linalg.eigh(sigma2)"
   ]
  },
  {
   "cell_type": "code",
   "execution_count": null,
   "id": "f6b931d8",
   "metadata": {},
   "outputs": [],
   "source": [
    "# to_be_filled\n",
    "np.linalg.eigh(sigma3)"
   ]
  },
  {
   "attachments": {},
   "cell_type": "markdown",
   "id": "3bd08709",
   "metadata": {},
   "source": [
    "## Managing data in `dataclass`\n",
    "\n",
    "Before we dive into solving our first Schrödinger equations, we introduce a programming technique to limit the [scope](https://en.wikipedia.org/wiki/Name_collision) of variable names and to thus avoid [name collisions](https://en.wikipedia.org/wiki/Name_collision).\n",
    "\n",
    "In Jupyter Notebook, the same variables can be reused in many places. This however causes problems when we want to rerun some parts of the Notebook; redefined variables might be used in unexpected places, which breaks the reproducibility of the results.\n",
    "\n",
    "One smart and common way to avoid this issue is to define variables in a limited name \"scope\". Even if we use the same variable names, they do not conflict if they belong to different \"scopes\". This allows us to nicely handle variables that reappear in many places but specific to a certain example (or problem or task in your homework).\n",
    "Utilizing such problem specific variables makes the output of the cells less sensitive to the order of execution, in particular when we come to interactive output controlled by sliders (ipywidgets).  \n",
    "\n",
    "For this purpose, we use Python [`dataclass`](https://docs.python.org/3/library/dataclasses.htmls) in our exercises."
   ]
  },
  {
   "cell_type": "code",
   "execution_count": null,
   "id": "2895651f",
   "metadata": {},
   "outputs": [],
   "source": [
    "from dataclasses import dataclass"
   ]
  },
  {
   "attachments": {},
   "cell_type": "markdown",
   "id": "50067d40",
   "metadata": {},
   "source": [
    "Using `dataclass`, we define a class, which we call `SystemXXX`.\n",
    "In there we will collect all relevant quantities that define the system we would like to solve."
   ]
  },
  {
   "cell_type": "code",
   "execution_count": null,
   "id": "030acc0e",
   "metadata": {},
   "outputs": [],
   "source": [
    "@dataclass\n",
    "class System1D:\n",
    "    \"\"\"\n",
    "    Dataset to solve the Schrödinger equation.\n",
    "\n",
    "    Notes\n",
    "    -----\n",
    "    All the quantities are in Hartree atomic units (hbar = m_e = e = 1.0).\n",
    "    \"\"\"\n",
    "    xmin: float  # first mesh point\n",
    "    xmax: float  # last mesh point\n",
    "    nx: int  # number of mesh points\n",
    "    mass: float = 1.0  # mass (default: 1.0 for an electron)\n",
    "    charge: float = -1.0  # charge (default: -1.0 for an electron)\n",
    "    periodic: bool = False  # whether the system is periodic\n",
    "\n",
    "    def __post_init__(self):\n",
    "        # If periodic, `xmax` is excluded from the mesh points.\n",
    "        endpoint = not self.periodic\n",
    "        self.xs = np.linspace(self.xmin, self.xmax, self.nx, endpoint=endpoint)\n",
    "        self.ax = self.xmax - self.xmin\n",
    "        self.deltax = self.xs[1] - self.xs[0]"
   ]
  },
  {
   "attachments": {},
   "cell_type": "markdown",
   "id": "9a4e165b",
   "metadata": {},
   "source": [
    "`@dataclass` makes a special class that smartly initialize the attributes.\n",
    "(See [here](https://docs.python.org/3/library/dataclasses.html) for details.)\n",
    "\n",
    "To make use of this class we assign it to a symbol, the name of which is example specific. Here, we just call it `s`; below we will add labels to get problem-specific symbols.\n",
    "\n",
    "To initialize `s`, we have to provide three variables, `xmin`, `xmax`, and `nx`, that characterize our system."
   ]
  },
  {
   "cell_type": "code",
   "execution_count": null,
   "id": "c89edb81",
   "metadata": {},
   "outputs": [],
   "source": [
    "s = System1D(xmin=0.0, xmax=1.0, nx=16)"
   ]
  },
  {
   "attachments": {},
   "cell_type": "markdown",
   "id": "91ccb8dc",
   "metadata": {},
   "source": [
    "We can access the attribute of this object with a following dot, e.g.,"
   ]
  },
  {
   "cell_type": "code",
   "execution_count": null,
   "id": "ef9fbfd1",
   "metadata": {},
   "outputs": [],
   "source": [
    "s.xmin"
   ]
  },
  {
   "attachments": {},
   "cell_type": "markdown",
   "id": "ad4d3fbf",
   "metadata": {},
   "source": [
    "Likewise, we can access other attributes initialized in the special method `__post_init__` (see details [here](https://docs.python.org/3/library/dataclasses.html#post-init-processing))."
   ]
  },
  {
   "cell_type": "code",
   "execution_count": null,
   "id": "3db1cafb",
   "metadata": {},
   "outputs": [],
   "source": [
    "s.xs"
   ]
  },
  {
   "cell_type": "markdown",
   "id": "b01556bf",
   "metadata": {},
   "source": [
    "We can add more variables to our class that are not in the original definition of the class.\n",
    "\n",
    "Let's add, e.g., a quadratic potential `vs` into our variable collection:"
   ]
  },
  {
   "cell_type": "code",
   "execution_count": null,
   "id": "4bd5a9e9",
   "metadata": {},
   "outputs": [],
   "source": [
    "s.vs = s.xs**2"
   ]
  },
  {
   "cell_type": "markdown",
   "id": "69a02076",
   "metadata": {},
   "source": [
    "`s` contains now an additional variable, an array called `vs`. We can access it as before for the other variables:"
   ]
  },
  {
   "cell_type": "code",
   "execution_count": null,
   "id": "cd81dce0",
   "metadata": {},
   "outputs": [],
   "source": [
    "s.vs"
   ]
  },
  {
   "cell_type": "markdown",
   "id": "314bf539",
   "metadata": {},
   "source": [
    "Let's plot it with matplotlib."
   ]
  },
  {
   "cell_type": "code",
   "execution_count": null,
   "id": "598fb04a",
   "metadata": {},
   "outputs": [],
   "source": [
    "import matplotlib.pyplot as plt"
   ]
  },
  {
   "cell_type": "code",
   "execution_count": null,
   "id": "dcfc7201",
   "metadata": {},
   "outputs": [],
   "source": [
    "fig, ax = plt.subplots()\n",
    "ax.plot(s.xs, s.vs)\n",
    "plt.show()"
   ]
  },
  {
   "cell_type": "markdown",
   "id": "f50ed5f8",
   "metadata": {},
   "source": [
    "We can have a look at all variables currently in our class by:"
   ]
  },
  {
   "cell_type": "code",
   "execution_count": null,
   "id": "322c30cd",
   "metadata": {},
   "outputs": [],
   "source": [
    "vars(s)"
   ]
  },
  {
   "cell_type": "markdown",
   "id": "cc5bd353",
   "metadata": {},
   "source": [
    "## ***Problem:*** Create classes"
   ]
  },
  {
   "attachments": {},
   "cell_type": "markdown",
   "id": "caa70b4b",
   "metadata": {},
   "source": [
    "### Instance without endpoint\n",
    "\n",
    "Make a new instance `s_periodic` of the `System1D` class, where we **exclude** `xmax` from the mesh points.\n",
    "\n",
    "- You need to override the default value for the variable `periodic`.\n",
    "\n",
    "Inspect the resulting mesh and delta and explain what has changed with respect to before."
   ]
  },
  {
   "cell_type": "code",
   "execution_count": null,
   "id": "f0320bb6",
   "metadata": {},
   "outputs": [],
   "source": [
    "# to_be_filled\n",
    "s_periodic = System1D(xmin=-1.0, xmax=+1.0, nx=16, periodic=True)\n",
    "s_periodic.xs"
   ]
  },
  {
   "cell_type": "code",
   "execution_count": null,
   "id": "47f47dab",
   "metadata": {},
   "outputs": [],
   "source": [
    "# to_be_filled\n",
    "s_periodic.deltax"
   ]
  },
  {
   "attachments": {},
   "cell_type": "markdown",
   "id": "64901190",
   "metadata": {},
   "source": [
    "### Symmetric mesh around 0\n",
    "\n",
    "Make a new instance `s_symmetric` of the `System1D` class that has a **symmetric** mesh around 0 from -2 bohr to +2 bohr.\n",
    "\n",
    "Then add an attribute for a quadratic potential `s_symmetric.vs` to your class and plot it together with the potential we have seen above for `s`."
   ]
  },
  {
   "cell_type": "code",
   "execution_count": null,
   "id": "29d2d01e",
   "metadata": {},
   "outputs": [],
   "source": [
    "# to_be_filled\n",
    "s_symmetric = System1D(xmin=-2.0, xmax=2.0, nx=16)\n",
    "s_symmetric.vs = s_symmetric.xs**2"
   ]
  },
  {
   "cell_type": "code",
   "execution_count": null,
   "id": "64b35fd9",
   "metadata": {},
   "outputs": [],
   "source": [
    "# to_be_filled\n",
    "fig, ax = plt.subplots()\n",
    "ax.plot(s.xs, s.vs, '.')\n",
    "plt.plot(s_symmetric.xs, s_symmetric.vs)\n",
    "plt.show()"
   ]
  },
  {
   "attachments": {},
   "cell_type": "markdown",
   "id": "3380abec",
   "metadata": {},
   "source": [
    "## Schrödinger equation in the real-space-grid method\n",
    "    \n",
    "Now let's get to the real stuff. The Schrödinger equation is the eigenvalue equation of the Hamilton operator,\n",
    "\n",
    "$$\n",
    "\\hat{H}\\left|\\psi\\right\\rangle =E\\left|\\psi\\right\\rangle.\n",
    "$$\n",
    "\n",
    "More concretely, this is the time-independent Schrödinger eqn. with $\\hat{H}$ the Hamilton operator, $E$ the eigenvalue (energy), and $\\psi$ the wave vector (ket vector in Hilbert space).\n",
    "\n",
    "For a single-particle in 1D (no spin) \n",
    "$$\n",
    "\\hat{H} = \\frac{\\hat{p}{}^{2}}{2m}+\\hat{V}(x)\n",
    "$$\n",
    "corresponding to the kinetic and potential energies. Thus we get\n",
    "\n",
    "$$\n",
    "\\left(\\frac{\\hat{p}{}^{2}}{2m}+\\hat{V}(x)\\right)\\left|\\psi\\right\\rangle = E \\left|\\psi\\right\\rangle.\n",
    "$$\n",
    "\n",
    "Choosing the position space as the representation to solve the above numerically, we pre-multiply by the bra-vector $\\left\\langle x \\right|$:\n",
    "\n",
    "$$\n",
    "\\langle x | \\left(\\frac{\\hat{p}{}^{2}}{2m}+\\hat{V}(x)\\right) | \\psi \\rangle\n",
    "= \\langle x | E | \\psi \\rangle\n",
    "$$\n",
    "\n",
    "(Check the lecture notes for more details on representations and how to go from the abstract Hilbert space to the real space.)\n",
    "\n",
    "This leads to\n",
    "\n",
    "$$\n",
    "  \\left(-\\frac{\\hbar^{2}}{2m}\\frac{\\mathrm{d}^{2}}{\\mathrm{d}x^{2}}\n",
    "+ V(x)\\right)\\psi(x)\n",
    "= E\\psi(x).\n",
    "$$"
   ]
  },
  {
   "attachments": {},
   "cell_type": "markdown",
   "id": "ba677cf0",
   "metadata": {},
   "source": [
    "To solve the above equation numerically, we need to discretize the real space into mesh points $x_{i}$ ($i = 0, \\dots, n-1$).\n",
    "\n",
    "The wave function and potential also become discrete vectors and multiplying $V(x_i)$ and $\\psi(x_i)$ is also a discrete vector. \n",
    "\n",
    "To make sure it works, we represent $V$ as a $n \\times n$ diagonal vector and $\\psi$ as a single-column vector:\n",
    "\n",
    "$$\n",
    "V(x) \\psi(x)\n",
    "\\quad\\Rightarrow\\quad\n",
    "\\begin{pmatrix}\n",
    "V_{0}\\\\\n",
    " & V_{1}\\\\\n",
    " &  & V_{2}\\\\\n",
    " &  &  & \\ddots\\\\\n",
    " &  &  &  &  V_{n-3}\\\\\n",
    " &  &  &  &  & V_{n-2}\\\\\n",
    " &  &  &  &  &  & V_{n-1}\n",
    "\\end{pmatrix}\n",
    "\\begin{pmatrix}\n",
    "\\psi_{0}\\\\\n",
    "\\psi_{1}\\\\\n",
    "\\psi_{2}\\\\\n",
    "\\vdots\\\\\n",
    "\\psi_{n-3}\\\\\n",
    "\\psi_{n-2}\\\\\n",
    "\\psi_{n-1}\n",
    "\\end{pmatrix}\n",
    "=\n",
    "\\begin{pmatrix}\n",
    "V_{1} \\psi_{0}\\\\\n",
    "V_{2} \\psi_{1}\\\\\n",
    "V_{3} \\psi_{2}\\\\\n",
    "\\vdots\\\\\n",
    "V_{n-2} \\psi_{n-3}\\\\\n",
    "V_{n-1} \\psi_{n-2}\\\\\n",
    "V_{n} \\psi_{n-1}\n",
    "\\end{pmatrix}.\n",
    "$$"
   ]
  },
  {
   "attachments": {},
   "cell_type": "markdown",
   "id": "d6af47f4",
   "metadata": {},
   "source": [
    "The other term, the second derivative of the wave function, can also be *numerically approximated* using the finite-different method.\n",
    "\n",
    "If the mesh points are equidistant,\n",
    "\n",
    "$$\n",
    "\\frac{\\mathrm{d}^{2}}{\\mathrm{d}x^{2}}\\psi(x)\\bigg|_{x=x_i} = \\frac{\\psi_{i+1}-2\\psi_{i}+\\psi_{i-1}}{\\Delta^{2}},\n",
    "$$\n",
    "\n",
    "where $\\Delta$, the distance between two mesh points.\n",
    "\n",
    "We also need to consider how to treat the endpoints. Here we consider the following **Dirichlet boundary conditions** (DBCs)\n",
    "\n",
    "$$\\psi_{-1} = \\psi_{n} = 0.$$\n",
    "\n",
    "In matrix notation, the kinetic energy term becomes:\n",
    "\n",
    "$$\n",
    "\\hat{T} \\psi(x)\n",
    "=\n",
    "-\\frac{\\hat{p}^2}{2m} \\psi(x)\n",
    "=\n",
    "-\\frac{\\hbar^{2}}{2m}\\frac{\\mathrm{d}^{2}}{\\mathrm{d}x^{2}} \\psi(x)\n",
    "\\quad\\Rightarrow\\quad\n",
    "-\\frac{\\hbar^2}{2 m \\Delta^{2}}\n",
    "\\begin{pmatrix}\n",
    "-2 &  1\\\\\n",
    " 1 & -2 &  1\\\\\n",
    "   &  1 & -2 & 1\\\\\n",
    "   &    &  1 & \\ddots & 1 \\\\\n",
    "   &    &    &  1 & -2 &  1\\\\\n",
    "   &    &    &    &  1 & -2 &  1\\\\\n",
    "   &    &    &    &    &  1 & -2\n",
    "\\end{pmatrix}\n",
    "\\begin{pmatrix}\n",
    "\\psi_{0}\\\\\n",
    "\\psi_{1}\\\\\n",
    "\\psi_{2}\\\\\n",
    "\\vdots\\\\\n",
    "\\psi_{n-3}\\\\\n",
    "\\psi_{n-2}\\\\\n",
    "\\psi_{n-1}\n",
    "\\end{pmatrix}.\n",
    "$$"
   ]
  },
  {
   "attachments": {},
   "cell_type": "markdown",
   "id": "9d6e69f4",
   "metadata": {},
   "source": [
    "Substituting both of the matrix notations into the real-space Schrödinger equation for a 1D particle, we get the final eigenvalue equation:\n",
    "\n",
    "$$\n",
    "\\left[\n",
    "-\\frac{\\hbar^{2}}{2m\\Delta^{2}}\n",
    "\\begin{pmatrix}\n",
    "-2 & 1\\\\\n",
    "1 & -2 & 1\\\\\n",
    " & 1 & -2 & 1\\\\\n",
    " &  & 1 & \\ddots & 1 \\\\\n",
    " &  &  &  1 & -2 &  1\\\\\n",
    " &  &  &    &  1 & -2 &  1\\\\\n",
    " &  &  &    &    &  1 & -2\n",
    "\\end{pmatrix}\n",
    "+\n",
    "\\begin{pmatrix}\n",
    "V_{0}\\\\\n",
    " & V_{1}\\\\\n",
    " &  & V_{2}\\\\\n",
    " &  &  & \\ddots\\\\\n",
    " &  &  &  &  V_{n-3}\\\\\n",
    " &  &  &  &  & V_{n-2}\\\\\n",
    " &  &  &  &  &  & V_{n-1}\n",
    "\\end{pmatrix}\n",
    "\\right]\n",
    "\\begin{pmatrix}\n",
    "\\psi_{0}\\\\\n",
    "\\psi_{1}\\\\\n",
    "\\psi_{2}\\\\\n",
    "\\vdots\\\\\n",
    "\\psi_{n-3}\\\\\n",
    "\\psi_{n-2}\\\\\n",
    "\\psi_{n-1}\n",
    "\\end{pmatrix}\n",
    "=\n",
    "E\n",
    "\\begin{pmatrix}\n",
    "\\psi_{0}\\\\\n",
    "\\psi_{1}\\\\\n",
    "\\psi_{2}\\\\\n",
    "\\vdots\\\\\n",
    "\\psi_{n-3}\\\\\n",
    "\\psi_{n-2}\\\\\n",
    "\\psi_{n-1}\n",
    "\\end{pmatrix}.\n",
    "$$"
   ]
  },
  {
   "attachments": {},
   "cell_type": "markdown",
   "id": "00da95a8",
   "metadata": {},
   "source": [
    "### Define the system\n",
    "\n",
    "Let's solve the 1D Schrödinger equation numerically using the method mentioned above.\n",
    "\n",
    "We first consider:\n",
    "\n",
    "- an electron: *m* = *m*<sub>e</sub> and *q* = −*e*\n",
    "- *x* ∈ [0, 1] (bohr)\n",
    "- Dirichlet boundary conditions (DBCs)\n",
    "- no potential: *V*(*x*) = 0\n",
    "\n",
    "To handle the relevant system parameters, we make `s_DBC` using `System1D` defined above."
   ]
  },
  {
   "cell_type": "code",
   "execution_count": null,
   "id": "269fa095",
   "metadata": {},
   "outputs": [],
   "source": [
    "s_DBC = System1D(xmin=0.0, xmax=1.0, nx=16, mass=1.0, charge=-1.0)"
   ]
  },
  {
   "attachments": {},
   "cell_type": "markdown",
   "id": "d0f07a9d",
   "metadata": {},
   "source": [
    "Note that `mass` and `charge` are optional; they are by default for an electron.\n",
    "\n",
    "Keep also in mind that, throughout our own implementations, we use [Hartree atomic units](https://en.wikipedia.org/wiki/Hartree_atomic_units) $(m_\\mathrm{e} = e = \\hbar = 1)$."
   ]
  },
  {
   "attachments": {},
   "cell_type": "markdown",
   "id": "1d13fbaa",
   "metadata": {},
   "source": [
    "### Calculate the kinetic-energy matrix\n",
    "\n",
    "Next, we define a function `calc_T_1D(s)` to compute the kinetic-energy matrix.\n",
    "\n",
    "This function takes the whole system class as its argument.\n",
    "Specifically, we need:\n",
    "- number of mesh points: `nx`\n",
    "- distance between two mesh points: `deltax`\n",
    "- mass of the particle: `mass`"
   ]
  },
  {
   "cell_type": "code",
   "execution_count": null,
   "id": "38b979f3",
   "metadata": {},
   "outputs": [],
   "source": [
    "def calc_T_1D(s: System1D):\n",
    "    \"\"\"Calculate kinetic-energy matrix in Hartree atomic units.\"\"\"\n",
    "    # 2nd derivative\n",
    "    T = np.eye(s.nx, k=+1) - 2.0 * np.eye(s.nx) + np.eye(s.nx, k=-1)\n",
    "    T /= s.deltax**2\n",
    "\n",
    "    # kinetic energy in Hartree atomic units (hbar = 1.0)\n",
    "    T *= -1.0 / (2.0 * s.mass)\n",
    "\n",
    "    return T"
   ]
  },
  {
   "cell_type": "markdown",
   "id": "a1bce124",
   "metadata": {},
   "source": [
    "Store the kinetic energy matrix in a variable `s_DBC.T`:"
   ]
  },
  {
   "cell_type": "code",
   "execution_count": null,
   "id": "37edaac0",
   "metadata": {},
   "outputs": [],
   "source": [
    "# kinetic energy\n",
    "s_DBC.T = calc_T_1D(s_DBC)"
   ]
  },
  {
   "attachments": {},
   "cell_type": "markdown",
   "id": "8256f97c",
   "metadata": {},
   "source": [
    "### Calculate the potential-energy matrix"
   ]
  },
  {
   "attachments": {},
   "cell_type": "markdown",
   "id": "b9765700",
   "metadata": {},
   "source": [
    "Similarly, store the potential-energy matrix in a variable `s_DBC.V`.\n",
    "\n",
    "Since now *V*(*x*) = 0, the potential-energy matrix is just a zero matrix."
   ]
  },
  {
   "cell_type": "code",
   "execution_count": null,
   "id": "f895d5ff",
   "metadata": {},
   "outputs": [],
   "source": [
    "# potential energy (zero)\n",
    "s_DBC.V = np.zeros((s_DBC.nx, s_DBC.nx))"
   ]
  },
  {
   "attachments": {},
   "cell_type": "markdown",
   "id": "99774adc",
   "metadata": {},
   "source": [
    "The Hamiltonian of the system (`s_DBC.H`) is the summation of `s_DBC.T` and `s_DBC.V`."
   ]
  },
  {
   "cell_type": "code",
   "execution_count": null,
   "id": "8db0524a",
   "metadata": {},
   "outputs": [],
   "source": [
    "s_DBC.H = s_DBC.T + s_DBC.V"
   ]
  },
  {
   "cell_type": "markdown",
   "id": "0a39a770",
   "metadata": {},
   "source": [
    "### Plot matrices\n",
    "\n",
    "To visualize the matrix, Matplotlib's [`ax.matshow`](https://matplotlib.org/stable/api/_as_gen/matplotlib.axes.Axes.matshow.html) is convenient."
   ]
  },
  {
   "cell_type": "code",
   "execution_count": null,
   "id": "212af819",
   "metadata": {},
   "outputs": [],
   "source": [
    "import matplotlib.pyplot as plt"
   ]
  },
  {
   "cell_type": "code",
   "execution_count": null,
   "id": "967702cd",
   "metadata": {},
   "outputs": [],
   "source": [
    "def plot_T(s: System1D):\n",
    "    vmax = np.abs(s.T).max()\n",
    "    vmin = -vmax\n",
    "    fig, ax = plt.subplots()\n",
    "    pc = ax.matshow(s.T, cmap='bwr', vmin=vmin, vmax=vmax)\n",
    "    fig.colorbar(pc)\n",
    "    plt.show()"
   ]
  },
  {
   "cell_type": "code",
   "execution_count": null,
   "id": "2b5f217f",
   "metadata": {},
   "outputs": [],
   "source": [
    "plot_T(s_DBC)"
   ]
  },
  {
   "attachments": {},
   "cell_type": "markdown",
   "id": "5edffabe",
   "metadata": {},
   "source": [
    "### Solve eigenproblem"
   ]
  },
  {
   "cell_type": "code",
   "execution_count": null,
   "id": "bccd73e9",
   "metadata": {},
   "outputs": [],
   "source": [
    "s_DBC.eigvals, s_DBC.eigvecs = np.linalg.eigh(s_DBC.H)"
   ]
  },
  {
   "attachments": {},
   "cell_type": "markdown",
   "id": "fed757fc",
   "metadata": {},
   "source": [
    "### Inspecting eigenvalues"
   ]
  },
  {
   "cell_type": "code",
   "execution_count": null,
   "id": "da75a24d",
   "metadata": {},
   "outputs": [],
   "source": [
    "def plot_eigvals(s: System1D):\n",
    "    fig, ax = plt.subplots()\n",
    "    ax.plot(s.eigvals, marker='o')\n",
    "    ax.set_xlabel(r'Index $\\nu$')\n",
    "    ax.set_ylabel('Energy (hartree)')\n",
    "    ax.set_title('Eigenvalues')\n",
    "    plt.show()"
   ]
  },
  {
   "cell_type": "code",
   "execution_count": null,
   "id": "0febbd21",
   "metadata": {},
   "outputs": [],
   "source": [
    "plot_eigvals(s_DBC)"
   ]
  },
  {
   "attachments": {},
   "cell_type": "markdown",
   "id": "2e17dc31",
   "metadata": {},
   "source": [
    "Remember that the analytical eigenvalues of the Schrödinger equation are\n",
    "\n",
    "$$\n",
    "\\epsilon_\\nu = \\frac{\\nu^2 \\pi^2 \\hbar^2}{2 m a^2} \\quad (\\nu = 1, 2, \\dots).\n",
    "$$\n",
    "\n",
    "Ref. https://en.wikipedia.org/wiki/Particle_in_a_box\n",
    "\n",
    "Let's compare our numerical results with this analytical formula."
   ]
  },
  {
   "cell_type": "code",
   "execution_count": null,
   "id": "8d762820",
   "metadata": {},
   "outputs": [],
   "source": [
    "nus = np.arange(1, s_DBC.nx + 1)  # [1, ..., s_DBC.nx]\n",
    "coef = np.pi**2 / (2.0 * s_DBC.ax**2)\n",
    "s_DBC.eigvals_analytical = coef * nus**2"
   ]
  },
  {
   "cell_type": "code",
   "execution_count": null,
   "id": "4201da5e",
   "metadata": {},
   "outputs": [],
   "source": [
    "def plot_eigvals_with_analytical(s: System1D):\n",
    "    fig, ax = plt.subplots()\n",
    "    ax.plot(s.eigvals_analytical, 'k.', label='analytical')\n",
    "    ax.plot(s.eigvals, '.', label='numerical')\n",
    "    ax.set_xlabel(r'Index $\\nu$')\n",
    "    ax.set_ylabel('Energy (hartree)')\n",
    "    ax.set_title('Eigenvalues')\n",
    "    ax.legend()\n",
    "    plt.show()"
   ]
  },
  {
   "cell_type": "code",
   "execution_count": null,
   "id": "dfba34bb",
   "metadata": {},
   "outputs": [],
   "source": [
    "plot_eigvals_with_analytical(s_DBC)"
   ]
  },
  {
   "cell_type": "markdown",
   "id": "465ccba7",
   "metadata": {},
   "source": [
    "As can be seen, for small $\\nu$, the numerical results nicely agree with the analytical values, but for large $k$, they deviate significantly. This is because (1) we have a discrete mesh and because (2) our kinetic energy is not exact but approximated by a second-order finite-difference. These issues can be solved, e.g., by using the plane-wave basis set. (We will do this in a later exercise.)"
   ]
  },
  {
   "cell_type": "markdown",
   "id": "6d312877",
   "metadata": {},
   "source": [
    "As seen, the eigenvalues lie on a sinusoidal curve (we will see the reason below)."
   ]
  },
  {
   "cell_type": "markdown",
   "id": "8cf2ea73",
   "metadata": {},
   "source": [
    "### Normalize eigenfunctions\n",
    "\n",
    "Let's plot the one-electron wavefunctions. Note that the wavefunction should be normalized to satisfy\n",
    "\n",
    "$$\n",
    "\\int_0^a |\\psi(x)|^2 \\mathrm{d}x = \\Delta \\sum_{i=1}^{n} |\\psi_i|^2 = 1,\n",
    "$$\n",
    "\n",
    "while the NumPy-computed eigenvectors $\\mathbf{e}$ are normalized as\n",
    "\n",
    "$$\n",
    "\\sum_{i=1}^{n} |e_i|^2 = 1.\n",
    "$$\n",
    "\n",
    "We therefore need to divide the computed eigenvectors by $\\sqrt{\\Delta}$ to satisfy the normalization condition for the wavefunction.\n",
    "$$\n",
    "\\psi = \\frac{e}{\\sqrt{\\Delta}}.\n",
    "$$"
   ]
  },
  {
   "cell_type": "code",
   "execution_count": null,
   "id": "dcbe2153",
   "metadata": {},
   "outputs": [],
   "source": [
    "# normalization\n",
    "s_DBC.psis = s_DBC.eigvecs / np.sqrt(s_DBC.deltax)"
   ]
  },
  {
   "attachments": {},
   "cell_type": "markdown",
   "id": "30e0195b",
   "metadata": {},
   "source": [
    "### Plot eigenfunctions"
   ]
  },
  {
   "cell_type": "code",
   "execution_count": null,
   "id": "6a8ebc19",
   "metadata": {},
   "outputs": [],
   "source": [
    "def plot_psi(s: System1D, nu: int):\n",
    "    psis = s.psis\n",
    "\n",
    "    ymin = 1.1 * psis.min()\n",
    "    ymax = 1.1 * psis.max()\n",
    "\n",
    "    fig, ax = plt.subplots()\n",
    "\n",
    "    ax.set_xlabel('$x$ (bohr)')\n",
    "    ax.set_ylabel('$\\psi(x)$')\n",
    "    ax.plot(s.xs, psis[:, nu], '-o')\n",
    "    ax.set_title(r'$\\epsilon_\\nu = $'+f'{s.eigvals[nu]} (hartree)')\n",
    "    ax.set_ylim(ymin, ymax)\n",
    "\n",
    "    plt.show()"
   ]
  },
  {
   "cell_type": "code",
   "execution_count": null,
   "id": "89e8bb56",
   "metadata": {},
   "outputs": [],
   "source": [
    "plot_psi(s_DBC, 0)"
   ]
  },
  {
   "attachments": {},
   "cell_type": "markdown",
   "id": "bf3d835a",
   "metadata": {},
   "source": [
    "To plot the results interactively, the [`interactive`](https://ipywidgets.readthedocs.io/en/latest/examples/Using%20Interact.html#interactive) method in `ipywidgets` is useful."
   ]
  },
  {
   "cell_type": "code",
   "execution_count": null,
   "id": "90518cf8",
   "metadata": {},
   "outputs": [],
   "source": [
    "from ipywidgets import interactive, fixed, IntSlider"
   ]
  },
  {
   "attachments": {},
   "cell_type": "markdown",
   "id": "f925c838",
   "metadata": {},
   "source": [
    "The first argument for `interative` is the function that we would like to make interactive (`plot_psi`).\n",
    "\n",
    "Be careful that what we need is the function itself rather than the returns of the function. Thus, the parentheses must not be added to `plot_psi` (No `plot_psi()`).\n",
    "\n",
    "The following arguments are those to be given to `plot_psi`.\n",
    "\n",
    "In the present case, `s` is not modified in the interactive plot; for such a variable, we should pass it via `fixed`.\n",
    "\n",
    "The index of the eigenstates, `nu`, is what we would like to change. Since this is an integer value, we can make it interactive via `IntSlider` (possibly with some options like `max`)."
   ]
  },
  {
   "cell_type": "code",
   "execution_count": null,
   "id": "879b5be8",
   "metadata": {},
   "outputs": [],
   "source": [
    "interactive(plot_psi, s=fixed(s_DBC), nu=IntSlider(max=s_DBC.nx-1))"
   ]
  },
  {
   "attachments": {},
   "cell_type": "markdown",
   "id": "2fdac634",
   "metadata": {},
   "source": [
    "## ***Problem:*** Interactive density plot\n",
    "\n",
    "1. Calculate the probability densities $|\\psi(x)|^2$ from `s_DBC.psis` and store it in `s_DBC.densities`.\n",
    "\n",
    "2. Make an interactive plot of the probability density similar to the above.\n",
    "\n",
    "3. Confirm that the probability density satisfies the normalization condition."
   ]
  },
  {
   "cell_type": "code",
   "execution_count": null,
   "id": "331e0e5f",
   "metadata": {},
   "outputs": [],
   "source": [
    "# to_be_filled\n",
    "s_DBC.densities = np.abs(s_DBC.psis)**2"
   ]
  },
  {
   "cell_type": "code",
   "execution_count": null,
   "id": "111ff67b",
   "metadata": {},
   "outputs": [],
   "source": [
    "# to_be_filled\n",
    "def plot_density(s: System1D, nu: int):\n",
    "    densities = s.densities\n",
    "\n",
    "    plt.xlabel('$x$ (bohr)')\n",
    "    plt.ylabel('$|\\psi(x)|^2$')\n",
    "    plt.plot(s.xs, densities[:, nu], '-o')\n",
    "    plt.title(r'$\\epsilon_\\nu = $'+f'{s.eigvals[nu]} (hartree)')\n",
    "    plt.ylim(0, densities.max()+0.2)\n",
    "\n",
    "    plt.show()\n",
    "\n",
    "    print(np.sum(densities[:, nu]) * s.deltax)"
   ]
  },
  {
   "cell_type": "code",
   "execution_count": null,
   "id": "c811bcd0",
   "metadata": {},
   "outputs": [],
   "source": [
    "# to_be_filled\n",
    "interactive(plot_density, s=fixed(s_DBC), nu=IntSlider(max=s_DBC.nx-1))"
   ]
  },
  {
   "cell_type": "markdown",
   "id": "c7833f7b",
   "metadata": {
    "jp-MarkdownHeadingCollapsed": true,
    "tags": []
   },
   "source": [
    "**Warning**: You will observe that the probability density becomes modestly smooth for the highest energy eigenstates.\n",
    "\n",
    "However, this does **NOT** reflect the true physics **BUT** just a numerical issue.\n",
    "As found from $\\psi(x)$, we actually have severe fluctuations on the wavefunction, and the true density corresponding to the wavefunction should also show the same fluctuations.\n",
    "\n",
    "The reason that the computed density appears to be smooth is simply because we do not have a mesh grid that is fine enough.\n",
    "Actually, from the theory of discrete Fourier transforms, it is known that $|\\psi(x)|^2$ requires a twice denser mesh than $\\psi(x)$ to be correctly represented."
   ]
  },
  {
   "attachments": {},
   "cell_type": "markdown",
   "id": "31f8c786",
   "metadata": {},
   "source": [
    "## ***Problem:*** 1D Coulomb potential\n",
    "\n",
    "We next consider the system under the following 1D Coulomb potential.\n",
    "\n",
    "$$\n",
    "V(x) = -\\frac{256}{|x|}\n",
    "$$\n",
    "\n",
    "(256 is just an arbitrary number.)\n",
    "\n",
    "1. Define a system with $x$ in the range of [-4, +4] and with 64 mesh points.\n",
    "2. Make a function `calc_vs_1D_Coulomb(s: System1D, X, Q, f)` to compute the following 1D Coulomb potential from a point charge $Q$ at the position $X$:\n",
    "\n",
    "    $$\n",
    "    V(x, q) \\approx \\frac{qQ}{|x - X| + f},\n",
    "    $$\n",
    "\n",
    "   where $x$ and $q$ are the position and the charge of the quantum particle to be solved, respectively.\n",
    "\n",
    "   $f$ is a certain small number to avoid the singularity e.g. `1e-3`. (See also what happens if `f = 0.0`.)\n",
    "   \n",
    "3. Solve the eigenproblem and write functions to plot wavefunctions (`plot_psi_with_vs`) and probability densities (`plot_density_with_vs`), possibly together with the potential."
   ]
  },
  {
   "cell_type": "code",
   "execution_count": null,
   "id": "66ef657a",
   "metadata": {},
   "outputs": [],
   "source": [
    "# to_be_filled\n",
    "s_Coulomb = System1D(xmin=-4.0, xmax=4.0, nx=64)"
   ]
  },
  {
   "cell_type": "code",
   "execution_count": null,
   "id": "6cf7e5b7",
   "metadata": {},
   "outputs": [],
   "source": [
    "# to_be_filled\n",
    "def calc_vs_1D_Coulomb(s: System1D, X: float, Q: float, f: float = 1e-3):\n",
    "    \"\"\"Calculate potential in Hartree atomic units.\"\"\"\n",
    "    return s.charge * Q / (np.abs(s.xs - X) + f)"
   ]
  },
  {
   "cell_type": "code",
   "execution_count": null,
   "id": "30cffa12",
   "metadata": {},
   "outputs": [],
   "source": [
    "# to_be_filled\n",
    "s_Coulomb.vs = calc_vs_1D_Coulomb(s_Coulomb, X=0.0, Q=256.0)"
   ]
  },
  {
   "cell_type": "code",
   "execution_count": null,
   "id": "7b7e2bf2",
   "metadata": {},
   "outputs": [],
   "source": [
    "# to_be_filled\n",
    "def plot_vs(s: System1D):\n",
    "    plt.figure()\n",
    "    plt.plot(s.xs, s.vs)\n",
    "    plt.xlabel('$x$ (bohr)')\n",
    "    plt.ylabel('$V(x)$ (hartree)')\n",
    "    plt.show()"
   ]
  },
  {
   "cell_type": "code",
   "execution_count": null,
   "id": "73da65ab",
   "metadata": {},
   "outputs": [],
   "source": [
    "# to_be_filled\n",
    "plot_vs(s_Coulomb)"
   ]
  },
  {
   "cell_type": "code",
   "execution_count": null,
   "id": "4c340df3",
   "metadata": {},
   "outputs": [],
   "source": [
    "# to_be_filled\n",
    "\n",
    "# kinetic energy\n",
    "s_Coulomb.T = calc_T_1D(s_Coulomb)\n",
    "\n",
    "# potential energy\n",
    "s_Coulomb.V = np.diag(s_Coulomb.vs)\n",
    "\n",
    "# hamiltonian\n",
    "s_Coulomb.H = s_Coulomb.T + s_Coulomb.V\n",
    "\n",
    "# diagonalization\n",
    "s_Coulomb.eigvals, s_Coulomb.eigvecs = np.linalg.eigh(s_Coulomb.H)\n",
    "\n",
    "# normalization\n",
    "s_Coulomb.psis = s_Coulomb.eigvecs / np.sqrt(s_Coulomb.deltax)\n",
    "\n",
    "# densities\n",
    "s_Coulomb.densities = np.abs(s_Coulomb.psis)**2"
   ]
  },
  {
   "cell_type": "code",
   "execution_count": null,
   "id": "98b8cb83",
   "metadata": {},
   "outputs": [],
   "source": [
    "# to_be_filled\n",
    "def plot_psi_with_vs(nu: int, s: System1D):\n",
    "    psis = s.psis\n",
    "\n",
    "    ymin = 1.05 * psis.min()\n",
    "    ymax = 1.05 * psis.max()\n",
    "\n",
    "    fig, ax = plt.subplots()\n",
    "    ax.plot(s.xs, psis[:, nu], 'o-')\n",
    "    ax.set_xlabel('$x$ (bohr)')\n",
    "    ax.set_ylabel('$\\Psi(x)$')\n",
    "    ax.set_ylim(ymin, ymax)\n",
    "    ax.set_title(r'$\\epsilon_\\nu = $'+f'{s.eigvals[nu]} (hartree)')\n",
    "\n",
    "    tax = plt.twinx()\n",
    "    tax.plot(s.xs, s.vs, 'ko-')\n",
    "    tax.set_ylabel('$V(x)$ (hartree)')\n",
    "\n",
    "    plt.show()"
   ]
  },
  {
   "cell_type": "code",
   "execution_count": null,
   "id": "76af3d4e",
   "metadata": {},
   "outputs": [],
   "source": [
    "# to_be_filled\n",
    "interactive(\n",
    "    plot_psi_with_vs,\n",
    "    s=fixed(s_Coulomb),\n",
    "    nu=IntSlider(max=s_Coulomb.nx-1),\n",
    ")"
   ]
  },
  {
   "cell_type": "code",
   "execution_count": null,
   "id": "7676e938",
   "metadata": {},
   "outputs": [],
   "source": [
    "# to_be_filled\n",
    "def plot_density_with_vs(s: System1D, nu: int):\n",
    "    densities = s.densities\n",
    "    ymax = 1.05 * densities.max()\n",
    "\n",
    "    fig, ax = plt.subplots()\n",
    "    ax.plot(s.xs, densities[:, nu], 'o-')\n",
    "    ax.set_xlabel('$x$')\n",
    "    ax.set_ylabel('$|\\Psi(x)|^2$')\n",
    "    ax.set_ylim(0.0, ymax)\n",
    "    ax.set_title(r'$\\epsilon_\\nu = $'+f'{s.eigvals[nu]} (hartree)')\n",
    "\n",
    "    tax = plt.twinx()\n",
    "    tax.plot(s.xs, s.vs, 'ko-')\n",
    "    tax.set_ylabel('$V(x)$ (hartree)')\n",
    "\n",
    "    plt.show()\n",
    "\n",
    "    print(sum(densities[:, nu]) * s.deltax)"
   ]
  },
  {
   "cell_type": "code",
   "execution_count": null,
   "id": "85da29ba",
   "metadata": {},
   "outputs": [],
   "source": [
    "# to_be_filled\n",
    "interactive(\n",
    "    plot_density_with_vs,\n",
    "    s=fixed(s_Coulomb),\n",
    "    nu=IntSlider(max=s_Coulomb.nx-1),\n",
    ")"
   ]
  },
  {
   "attachments": {},
   "cell_type": "markdown",
   "id": "9f285269",
   "metadata": {},
   "source": [
    "## ***Problem:*** Periodic boundary conditions (PBCs)\n",
    "\n",
    "Up to now we have considered electrons constrained in an isolated box (Dirichlet boundary condition (DBC)).\n",
    "A crystal in the real world, however, has a tremendous number of electrons, in the order of 10<sup>23</sup> or higher.\n",
    "Such a system cannot of course be simulated in the manner as we have done up to now.\n",
    "\n",
    "To address this issue, we consider an infinitely large crystal, which is constructed by simply repeating a small *unit cell*."
   ]
  },
  {
   "attachments": {},
   "cell_type": "markdown",
   "id": "8f8d61c4",
   "metadata": {},
   "source": [
    "Similarly to the above implementation with DBC, we discretize the unit cell into mesh points $x_{i}$ with $i$ from 0 to $n-1$.\n",
    "The wave function and the potential are also discretized as $V_i = V(x_i)$ and $\\psi_i = \\psi(x_i)$.\n",
    "\n",
    "Let's consider the Hamiltonian:\n",
    "$$\n",
    "\\left(-\\frac{\\hbar^{2}}{2m}\\frac{\\mathrm{d}^{2}}{\\mathrm{d}x^{2}}+V(x)\\right)\\psi(x) = E\\psi(x).\n",
    "$$\n",
    "\n",
    "As we learned already, the second derivative of the wave function can be numerically approximated by the finite-difference method:\n",
    "\n",
    "$$\n",
    "\\left.\\frac{\\mathrm{d}^{2}}{\\mathrm{d}x^{2}}\\psi(x)\\right|_{x = x_i} =\n",
    "\\frac{\\psi_{i+1}-2\\psi_{i}+\\psi_{i-1}}{\\Delta^{2}},\n",
    "$$\n",
    "\n",
    "where $\\Delta$, the distance between two mesh points, is assumed to be equidistant.\n",
    "\n",
    "Now, instead of the isolated-box case ($\\psi_{-1}=\\psi_{n}=0$), we consider the following **periodic boundary conditions** (PBCs):\n",
    "$$\n",
    "\\psi_{-1} = \\psi_{n-1}, \\quad \\psi_{n} = \\psi_{0}.\n",
    "$$\n",
    "\n",
    "**(Note: This will be extended later when we consider Bloch's theorem!)**"
   ]
  },
  {
   "cell_type": "markdown",
   "id": "1d61daff",
   "metadata": {},
   "source": [
    "Then, at the end points ($i = 0$ and $i = n - 1$), we can write the second derivative as\n",
    "\n",
    "$$\n",
    "\\left.\\frac{\\mathrm{d}^{2}}{\\mathrm{d}x^{2}}\\psi(x)\\right|_{x = x_{0}} =\n",
    "\\frac{\\psi_{-1}-2\\psi_{0}+\\psi_{2}}{\\Delta^{2}} =\n",
    "\\frac{\\textcolor{red}{\\psi_{n-1}}-2\\psi_{0}+\\psi_{1}}{\\Delta^{2}},\n",
    "\\\\\n",
    "\\left.\\frac{\\mathrm{d}^{2}}{\\mathrm{d}x^{2}}\\psi(x)\\right|_{x = x_{n-1}} =\n",
    "\\frac{\\psi_{n-2}-2\\psi_{n-1}+\\psi_{n}}{\\Delta^{2}} =\n",
    "\\frac{\\psi_{n-2}-2\\psi_{n-1}+\\textcolor{red}{\\psi_{0}}}{\\Delta^{2}}.\n",
    "$$\n",
    "\n",
    "In matrix notation, the second-derivative can be then written as:\n",
    "\n",
    "$$\n",
    "\\frac{1}{\\Delta^{2}}\n",
    "\\begin{pmatrix}\n",
    "-2 &  1 &    & & & & \\color{red}{1} \\\\\n",
    " 1 & -2 &  1\\\\\n",
    "   &  1 & -2 &  1\\\\\n",
    "   &    & \\ddots & \\ddots & \\ddots \\\\\n",
    "   &    &    &  1 & -2 &  1\\\\\n",
    "   &    &    &    &  1 & -2 &  1\\\\\n",
    "\\color{red}{1} &    &    &    &    &  1 & -2\\\\\n",
    "\\end{pmatrix}\n",
    "\\begin{pmatrix}\n",
    "\\psi_{0}\\\\\n",
    "\\psi_{1}\\\\\n",
    "\\psi_{2}\\\\\n",
    "\\vdots\\\\\n",
    "\\psi_{n-3}\\\\\n",
    "\\psi_{n-2}\\\\\n",
    "\\psi_{n-1}\n",
    "\\end{pmatrix}.\n",
    "$$\n",
    "\n",
    "You can find the difference to the previous DBC kinetic energy matrix at the elements at $(0, n-1)$ and $(n-1, 0)$.  \n",
    "Instead of 0, they are now 1.\n",
    "\n",
    "The kinetic-energy matrix is then written as\n",
    "\n",
    "$$\n",
    "-\\frac{1}{2 m \\Delta^{2}}\n",
    "\\begin{pmatrix}\n",
    "-2 &  1 &    & & & & \\color{red}{1} \\\\\n",
    " 1 & -2 &  1\\\\\n",
    "   &  1 & -2 &  1\\\\\n",
    "   &    & \\ddots & \\ddots & \\ddots \\\\\n",
    "   &    &    &  1 & -2 &  1\\\\\n",
    "   &    &    &    &  1 & -2 &  1\\\\\n",
    "\\color{red}{1} &    &    &    &    &  1 & -2\\\\\n",
    "\\end{pmatrix}\n",
    "\\begin{pmatrix}\n",
    "\\psi_{0}\\\\\n",
    "\\psi_{1}\\\\\n",
    "\\psi_{2}\\\\\n",
    "\\vdots\\\\\n",
    "\\psi_{n-3}\\\\\n",
    "\\psi_{n-2}\\\\\n",
    "\\psi_{n-1}\n",
    "\\end{pmatrix}.\n",
    "$$\n",
    "\n",
    "Let's construct the matrix above using NumPy."
   ]
  },
  {
   "cell_type": "code",
   "execution_count": null,
   "id": "aacceeb4",
   "metadata": {},
   "outputs": [],
   "source": [
    "# to_be_filled\n",
    "s_PBC = System1D(xmin=0.0, xmax=1.0, nx=16, periodic=True)"
   ]
  },
  {
   "attachments": {},
   "cell_type": "markdown",
   "id": "f5e0beef",
   "metadata": {},
   "source": [
    "Note that, with `periodic=True`, `xmax` is excluded from the mesh points, which is reasonable because we consider the PBCs, i.e., *ψ*(`xmin`) = *ψ*(`xmax`).\n",
    "\n",
    "### Kinetic energy matrix\n",
    "\n",
    "Write a function `calc_T_PBC(s)` to compute the kinetic-energy matrix for PBCs. You can do this, e.g., by modifying the one for the DBCs."
   ]
  },
  {
   "cell_type": "code",
   "execution_count": null,
   "id": "9f2aeda5",
   "metadata": {},
   "outputs": [],
   "source": [
    "# to_be_filled\n",
    "def calc_T_PBC(s: System1D):\n",
    "    \"\"\"Calculate kinetic-energy matrix for PBCs in Hartree atomic units\"\"\"\n",
    "    # 2nd derivative\n",
    "    T = np.eye(s.nx, k=+1) - 2.0 * np.eye(s.nx) + np.eye(s.nx, k=-1)\n",
    "    T[0, -1] = T[-1, 0] = 1.0  # PBCs\n",
    "    T /= s.deltax**2\n",
    "\n",
    "    # kinetic energy in Hartree atomic units (hbar = 1.0)\n",
    "    T *= -1.0 / (2.0 * s.mass)\n",
    "\n",
    "    return T"
   ]
  },
  {
   "cell_type": "code",
   "execution_count": null,
   "id": "ef25e153",
   "metadata": {},
   "outputs": [],
   "source": [
    "# to_be_filled\n",
    "s_PBC.T = calc_T_PBC(s_PBC)"
   ]
  },
  {
   "cell_type": "markdown",
   "id": "a4b5ccb3",
   "metadata": {},
   "source": [
    "### PBC vs DBC\n",
    "\n",
    "Plot the obtained kinetic-energy matrix and compare to `s_DBC.T`"
   ]
  },
  {
   "cell_type": "code",
   "execution_count": null,
   "id": "b2e5d4e4",
   "metadata": {},
   "outputs": [],
   "source": [
    "# to_be_filled\n",
    "vmax = np.abs(s_PBC.T).max()\n",
    "vmin = -vmax\n",
    "fig, [ax1, ax2] = plt.subplots(1, 2, figsize=(12.8, 4.8))\n",
    "ai1 = ax1.matshow(s_PBC.T, cmap='bwr', vmin=vmin, vmax=vmax)\n",
    "ai2 = ax2.matshow(s_DBC.T, cmap='bwr', vmin=vmin, vmax=vmax)\n",
    "fig.colorbar(ai1, ax=ax1)\n",
    "fig.colorbar(ai2, ax=ax2)\n",
    "ax1.set_title('PBCs')\n",
    "ax2.set_title('DBCs')\n",
    "plt.show()"
   ]
  },
  {
   "cell_type": "markdown",
   "id": "78dabb4d",
   "metadata": {},
   "source": [
    "### Schrödinger with PBCs\n",
    "\n",
    "Solve the eigenproblem under the PBCs assuming no potential and plot the results."
   ]
  },
  {
   "cell_type": "code",
   "execution_count": null,
   "id": "e1be65ae",
   "metadata": {},
   "outputs": [],
   "source": [
    "# to_be_filled\n",
    "\n",
    "# potential energy (zero)\n",
    "s_PBC.V = np.zeros((s_PBC.nx, s_PBC.nx))\n",
    "\n",
    "# hamiltonian\n",
    "s_PBC.H = s_PBC.T + s_PBC.V\n",
    "\n",
    "# diagonalization\n",
    "s_PBC.eigvals, s_PBC.eigvecs = np.linalg.eigh(s_PBC.H)\n",
    "\n",
    "# normalization\n",
    "s_PBC.psis = s_PBC.eigvecs / np.sqrt(s_PBC.deltax)\n",
    "\n",
    "# densities\n",
    "s_PBC.densities = s_PBC.psis**2"
   ]
  },
  {
   "cell_type": "code",
   "execution_count": null,
   "id": "95504677",
   "metadata": {},
   "outputs": [],
   "source": [
    "# to_be_filled\n",
    "plot_eigvals(s_PBC)"
   ]
  },
  {
   "cell_type": "code",
   "execution_count": null,
   "id": "9ef3f965",
   "metadata": {},
   "outputs": [],
   "source": [
    "# to_be_filled\n",
    "interactive(\n",
    "    plot_psi,\n",
    "    s=fixed(s_PBC),\n",
    "    nu=IntSlider(max=s_PBC.nx-1),\n",
    ")"
   ]
  },
  {
   "cell_type": "code",
   "execution_count": null,
   "id": "67bde220",
   "metadata": {},
   "outputs": [],
   "source": [
    "# to_be_filled\n",
    "interactive(\n",
    "    plot_density,\n",
    "    s=fixed(s_PBC),\n",
    "    nu=IntSlider(max=s_PBC.nx-1),\n",
    ")"
   ]
  },
  {
   "cell_type": "markdown",
   "id": "8e8e9084",
   "metadata": {},
   "source": [
    "Similarly to the Dirichlet boundary conditions, the analytical eigenvalues of the Schrödinger equation with periodic boundary conditions and without a potential are given by\n",
    "\n",
    "$$\n",
    "\\epsilon_\\nu = \\frac{2 \\nu^2 \\pi^2 \\hbar^2}{m a^2} \\quad (\\nu \\in \\mathbb{Z}).\n",
    "$$\n",
    "\n",
    "The difference is that $\\nu$ can be now zero and negative. So we need to take the lowest energies for comparison, by sorting properly."
   ]
  },
  {
   "cell_type": "code",
   "execution_count": null,
   "id": "cd06ed16",
   "metadata": {},
   "outputs": [],
   "source": [
    "# to_be_filled\n",
    "s_PBC.nus = np.arange(-s_PBC.nx // 2, s_PBC.nx // 2)\n",
    "s_PBC.nus"
   ]
  },
  {
   "cell_type": "code",
   "execution_count": null,
   "id": "3a3cec8f",
   "metadata": {},
   "outputs": [],
   "source": [
    "# to_be_filled\n",
    "s_PBC.eigvals_analytical = 2.0 * s_PBC.nus**2 * np.pi**2 / s_PBC.ax**2\n",
    "s_PBC.eigvals_analytical = np.sort(s_PBC.eigvals_analytical)"
   ]
  },
  {
   "cell_type": "code",
   "execution_count": null,
   "id": "2e1d4570",
   "metadata": {},
   "outputs": [],
   "source": [
    "# to_be_filled\n",
    "plot_eigvals_with_analytical(s_PBC)"
   ]
  },
  {
   "cell_type": "markdown",
   "id": "51675721",
   "metadata": {},
   "source": [
    "Again, at higher eigenvalues, there is a large deviation."
   ]
  }
 ],
 "metadata": {
  "kernelspec": {
   "display_name": "Python 3 (ipykernel)",
   "language": "python",
   "name": "python3"
  },
  "language_info": {
   "codemirror_mode": {
    "name": "ipython",
    "version": 3
   },
   "file_extension": ".py",
   "mimetype": "text/x-python",
   "name": "python",
   "nbconvert_exporter": "python",
   "pygments_lexer": "ipython3",
   "version": "3.11.6"
  },
  "toc": {
   "base_numbering": 1,
   "nav_menu": {},
   "number_sections": true,
   "sideBar": true,
   "skip_h1_title": true,
   "title_cell": "Table of Contents",
   "title_sidebar": "Contents",
   "toc_cell": false,
   "toc_position": {
    "height": "calc(100% - 180px)",
    "left": "10px",
    "top": "150px",
    "width": "252px"
   },
   "toc_section_display": true,
   "toc_window_display": true
  },
  "toc-showcode": false,
  "vscode": {
   "interpreter": {
    "hash": "654192688fbcf31a96b8e84b8cf32b033aa186545ea3931a27889a1dba9e83b7"
   }
  }
 },
 "nbformat": 4,
 "nbformat_minor": 5
}
