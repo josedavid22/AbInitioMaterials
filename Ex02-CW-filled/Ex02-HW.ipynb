{
 "cells": [
  {
   "cell_type": "markdown",
   "id": "40413671",
   "metadata": {},
   "source": [
    "# Materials design by *ab initio* methods (MDAM)\n",
    "\n",
    "Prof. Blazej Grabowski, Dr. Yuji Ikeda\n",
    "\n",
    "Department of Materials Design, University of Stuttgart\n",
    "\n",
    "**Please submit:**\n",
    "\n",
    "- **Original Jupyter Notebooks (XXX.ipynb) of your answers**\n",
    "  - **Before submission, please do \"Kernel – Restart & Run All\" to check if your notebook is executable.**\n",
    "- **PDF of \"Print Preview\"**\n",
    "- **Other files requested in the exercise**"
   ]
  },
  {
   "cell_type": "markdown",
   "id": "56681b49",
   "metadata": {},
   "source": [
    "# Homework 02: Schrödinger equation in 1D real space"
   ]
  },
  {
   "cell_type": "code",
   "execution_count": null,
   "id": "45159267",
   "metadata": {},
   "outputs": [],
   "source": [
    "import numpy as np\n",
    "import matplotlib.pyplot as plt\n",
    "from dataclasses import dataclass\n",
    "from ipywidgets import interactive, fixed, IntSlider"
   ]
  },
  {
   "cell_type": "markdown",
   "id": "5539d9d9",
   "metadata": {},
   "source": [
    "## Fourth-Order-ACCURACY (5 pt)\n",
    "\n",
    "Consider the *Dirichlet boundary condition* again for a single particle in 1D.  \n",
    "- Instead of the second-order-accuracy finite difference, create the kinetic-energy matrix with the **fourth**-order-accuracy finite difference method.\n",
    "- Calculate the eigenvalues of the kinetic-energy matrix **with the fourth-order accuracy**. Compare the thus-obtained eigenvalues with the eigenvalues with the second-order accuracy.\n",
    "\n",
    "**Do not confuse the second-order \"derivative\" with the second-order \"accuracy\".**\n",
    "\n",
    "Ref. https://en.wikipedia.org/wiki/Finite_difference_coefficient#Central_finite_difference\n",
    "\n",
    "The fourth-order approximation is proved as follows:\n",
    "\n",
    "\\begin{alignat*}{99}\n",
    "f(x + 2h) &= f(x) {}+{} &2hf'(x)& {}+{} & \\frac{(+2h)^2}{2!}f''(x)& {}+{} & \\frac{(+2h)^3}{3!}f'''(x)& {}+{} & \\frac{(+2h)^4}{4!}f^{(4)}(x)& {}+{} & \\frac{(+2h)^4}{5!}f^{(5)}(x)& {}+{} \\mathcal{O}(h^6)& \\quad(1) \\\\\n",
    "f(x +  h) &= f(x) {}+{} & hf'(x)& {}+{} & \\frac{(+ h)^2}{2!}f''(x)& {}+{} & \\frac{(+ h)^3}{3!}f'''(x)& {}+{} & \\frac{(+ h)^4}{4!}f^{(4)}(x)& {}+{} & \\frac{(+ h)^4}{5!}f^{(5)}(x)& {}+{} \\mathcal{O}(h^6)& \\quad(2) \\\\\n",
    "f(x)      &= f(x) {} {} &       & {} {} & \\phantom{\\frac{1}{1}}   & {} {} &                          & {} {} &                             & {} {} &                             & {} {}                 & \\quad(3) \\\\\n",
    "f(x -  h) &= f(x) {}-{} & hf'(x)& {}+{} & \\frac{(- h)^2}{2!}f''(x)& {}+{} & \\frac{(- h)^3}{3!}f'''(x)& {}+{} & \\frac{(- h)^4}{4!}f^{(4)}(x)& {}+{} & \\frac{(- h)^4}{5!}f^{(5)}(x)& {}+{} \\mathcal{O}(h^6)& \\quad(4) \\\\\n",
    "f(x - 2h) &= f(x) {}-{} &2hf'(x)& {}+{} & \\frac{(-2h)^2}{2!}f''(x)& {}+{} & \\frac{(-2h)^3}{3!}f'''(x)& {}+{} & \\frac{(-2h)^4}{4!}f^{(4)}(x)& {}+{} & \\frac{(-2h)^4}{5!}f^{(5)}(x)& {}+{} \\mathcal{O}(h^6)& \\quad(5)\n",
    "\\end{alignat*}\n",
    "\n",
    "16 × ((2) + (4)) − ((1) + (5)) − 30 × (3) gives\n",
    "\n",
    "$$\n",
    "- f(x + 2h) + 16 f(x + h) - 30 f(x) + 16(f - h) - f(x - 2h) = 12 h^2 f''(x) + \\mathcal{O}(h^6)\n",
    "$$\n",
    "\n",
    "Therefore\n",
    "\n",
    "$$\n",
    "f''(x) = \\frac{1}{h^2}\\left(-\\frac{1}{12}f(x+2h) + \\frac{4}{3}f(x+h) - \\frac{5}{2}f(x) + \\frac{4}{3}f(x-h) - \\frac{1}{12}f(x-2h)\\right) + \\mathcal{O}(h^4)\n",
    "$$"
   ]
  },
  {
   "cell_type": "code",
   "execution_count": null,
   "id": "4f01e85b",
   "metadata": {},
   "outputs": [],
   "source": [
    "@dataclass\n",
    "class System1D:\n",
    "    \"\"\"\n",
    "    Dataset to solve the Schrödinger equation.\n",
    "\n",
    "    Notes\n",
    "    -----\n",
    "    All the quantities are in Hartree atomic units (hbar = m_e = e = 1.0).\n",
    "    \"\"\"\n",
    "    xmin: float  # first mesh point\n",
    "    xmax: float  # last mesh point\n",
    "    nx: int  # number of mesh points\n",
    "    mass: float = 1.0  # mass (default: 1.0 for an electron)\n",
    "    charge: float = -1.0  # charge (default: -1.0 for an electron)\n",
    "    periodic: bool = False  # whether the system is periodic\n",
    "\n",
    "    def __post_init__(self):\n",
    "        # If periodic, `xmax` is excluded from the mesh points.\n",
    "        endpoint = not self.periodic\n",
    "        self.xs = np.linspace(self.xmin, self.xmax, self.nx, endpoint=endpoint)\n",
    "        self.ax = self.xmax - self.xmin\n",
    "        self.deltax = self.xs[1] - self.xs[0]"
   ]
  },
  {
   "cell_type": "code",
   "execution_count": null,
   "id": "2298c59f",
   "metadata": {},
   "outputs": [],
   "source": []
  },
  {
   "cell_type": "code",
   "execution_count": null,
   "id": "277772b6",
   "metadata": {},
   "outputs": [],
   "source": []
  },
  {
   "cell_type": "code",
   "execution_count": null,
   "id": "ff4ca1ea",
   "metadata": {},
   "outputs": [],
   "source": []
  },
  {
   "cell_type": "code",
   "execution_count": null,
   "id": "d9c6d430",
   "metadata": {},
   "outputs": [],
   "source": []
  },
  {
   "cell_type": "markdown",
   "id": "9c2cb12a",
   "metadata": {},
   "source": [
    "Remember that the analytical values are\n",
    "$$\n",
    "\\epsilon_\\nu = \\frac{\\nu^2 \\pi^2 \\hbar^2}{2 m L^2} \\quad (\\nu = 1, 2, 3, \\dots).\n",
    "$$"
   ]
  },
  {
   "cell_type": "code",
   "execution_count": null,
   "id": "69f60335",
   "metadata": {},
   "outputs": [],
   "source": []
  },
  {
   "cell_type": "code",
   "execution_count": null,
   "id": "8df10be5",
   "metadata": {},
   "outputs": [],
   "source": []
  },
  {
   "cell_type": "markdown",
   "id": "49c3dd6f",
   "metadata": {},
   "source": [
    "## PBCs: second-order-derivative matrix\n",
    "\n",
    "### Implementation (3 pt.)\n",
    "\n",
    "Write a function that compute the *n* × *n* matrix\n",
    "\n",
    "$$\n",
    "\\frac{\\mathrm{d}^2}{\\mathrm{d}x^2}\n",
    "\\rightarrow\n",
    "\\frac{1}{\\Delta^2}\n",
    "\\begin{pmatrix}\n",
    "-2 &  1 &    & & & & \\color{red}{1} \\\\\n",
    " 1 & -2 &  1\\\\\n",
    "   &  1 & -2 &  1\\\\\n",
    "   &    & \\ddots & \\ddots & \\ddots \\\\\n",
    "   &    &    &  1 & -2 &  1\\\\\n",
    "   &    &    &    &  1 & -2 &  1\\\\\n",
    "\\color{red}{1} &    &    &    &    &  1 & -2\\\\\n",
    "\\end{pmatrix}\n",
    "$$\n",
    "\n",
    "which is the basis of the kinetic-energy matrix with the periodic boundary condition (PBC), in the following two ways.\n",
    "  - `calc_second_derivative_PBC_for(n, delta)`: With Python `for` loops but without `np.eye`\n",
    "  - `calc_second_derivative_PBC_eye(n, delta)`: with `np.eye`"
   ]
  },
  {
   "cell_type": "code",
   "execution_count": null,
   "id": "134df2d3",
   "metadata": {},
   "outputs": [],
   "source": []
  },
  {
   "cell_type": "code",
   "execution_count": null,
   "id": "233d0732",
   "metadata": {},
   "outputs": [],
   "source": []
  },
  {
   "cell_type": "markdown",
   "id": "98c72f39",
   "metadata": {},
   "source": [
    "### Test (1 pt.)\n",
    "\n",
    "Check that the two functions give the same results for *n* = 10 and Δ = 1.0 using, e.g.,\n",
    "[`np.array_equal`](https://numpy.org/doc/stable/reference/generated/numpy.array_equal.html)."
   ]
  },
  {
   "cell_type": "code",
   "execution_count": null,
   "id": "443a2164",
   "metadata": {},
   "outputs": [],
   "source": []
  },
  {
   "cell_type": "markdown",
   "id": "a6952f1f",
   "metadata": {},
   "source": [
    "### Time measurement (1 pt.)\n",
    "\n",
    "Check the speed of your implementations by doing, e.g., `%timeit calc_second_derivative_PBC_for(1000, 1.0)`."
   ]
  },
  {
   "cell_type": "code",
   "execution_count": null,
   "id": "ffb4bf93",
   "metadata": {},
   "outputs": [],
   "source": []
  },
  {
   "cell_type": "markdown",
   "id": "c7a19d2f",
   "metadata": {},
   "source": [
    "## Harmonic oscillator (5 pt)\n",
    "\n",
    "Consider the following harmonic potential for an electron under the Dirichlet boundary condition of $\\psi_{-1} = \\psi_{n} = 0$.\n",
    "\n",
    "$$\n",
    "V(x) = \\frac{1}{2}x^2.\n",
    "$$\n",
    "\n",
    "- Plot the potential *V*(*x*) above as a function of *x*. Choose some good range for $x$ by yourself.\n",
    "- Solve the 1D Schrödinger equation for the potential above.\n",
    "\n",
    "The analytical eigenvalues of the potential above are given by (in Hartree atomic units)\n",
    "\n",
    "   $$\n",
    "   \\epsilon_\\nu = \\nu + \\frac{1}{2} \\quad (\\nu = 0, 1, 2, \\dots).\n",
    "   $$\n",
    "\n",
    "- Compare your numerical results with the analytical ones."
   ]
  },
  {
   "cell_type": "code",
   "execution_count": null,
   "id": "3906ea4d",
   "metadata": {},
   "outputs": [],
   "source": []
  },
  {
   "cell_type": "code",
   "execution_count": null,
   "id": "b55579c2",
   "metadata": {},
   "outputs": [],
   "source": []
  },
  {
   "cell_type": "code",
   "execution_count": null,
   "id": "871ae814",
   "metadata": {},
   "outputs": [],
   "source": []
  },
  {
   "cell_type": "code",
   "execution_count": null,
   "id": "e45a8481",
   "metadata": {},
   "outputs": [],
   "source": []
  },
  {
   "cell_type": "code",
   "execution_count": null,
   "id": "8be460ea",
   "metadata": {},
   "outputs": [],
   "source": []
  },
  {
   "cell_type": "code",
   "execution_count": null,
   "id": "003c1bd5",
   "metadata": {},
   "outputs": [],
   "source": []
  },
  {
   "cell_type": "code",
   "execution_count": null,
   "id": "10dc6bf2",
   "metadata": {},
   "outputs": [],
   "source": []
  },
  {
   "cell_type": "code",
   "execution_count": null,
   "id": "8a527688",
   "metadata": {},
   "outputs": [],
   "source": []
  },
  {
   "cell_type": "code",
   "execution_count": null,
   "id": "528cf192",
   "metadata": {},
   "outputs": [],
   "source": []
  },
  {
   "cell_type": "code",
   "execution_count": null,
   "id": "e869be1d",
   "metadata": {},
   "outputs": [],
   "source": []
  },
  {
   "cell_type": "code",
   "execution_count": null,
   "id": "961bb157",
   "metadata": {},
   "outputs": [],
   "source": []
  },
  {
   "cell_type": "code",
   "execution_count": null,
   "id": "7975e0c5",
   "metadata": {},
   "outputs": [],
   "source": []
  },
  {
   "cell_type": "markdown",
   "id": "d865aec1",
   "metadata": {},
   "source": [
    "## Sinusoidal potential with PBCs (5 pt)\n",
    "\n",
    "Consider now the sinusoidal potential given by\n",
    "\n",
    "$$\n",
    "V(x) = 256 \\sin (2 \\pi x),\n",
    "$$\n",
    "\n",
    "which has the periodicity of 1 bohr.\n",
    "\n",
    "- Calculate the kinetic-energy-density matrix **under the periodic boundary conditions (PBCs)**.\n",
    "- Plot the potential *V*(*x*) as a function of *x*.\n",
    "- Solve the eigenproblem.\n",
    "- Plot the wavefunctions and the probability densities of the eigenstates."
   ]
  },
  {
   "cell_type": "code",
   "execution_count": null,
   "id": "aaa81f25",
   "metadata": {},
   "outputs": [],
   "source": []
  },
  {
   "cell_type": "code",
   "execution_count": null,
   "id": "1e082582",
   "metadata": {},
   "outputs": [],
   "source": []
  },
  {
   "cell_type": "code",
   "execution_count": null,
   "id": "e102c11b",
   "metadata": {},
   "outputs": [],
   "source": []
  },
  {
   "cell_type": "code",
   "execution_count": null,
   "id": "3d56e913",
   "metadata": {},
   "outputs": [],
   "source": []
  },
  {
   "cell_type": "code",
   "execution_count": null,
   "id": "4f88570d",
   "metadata": {},
   "outputs": [],
   "source": []
  },
  {
   "cell_type": "code",
   "execution_count": null,
   "id": "5a878dfa",
   "metadata": {},
   "outputs": [],
   "source": []
  },
  {
   "cell_type": "code",
   "execution_count": null,
   "id": "f5ebf8fd",
   "metadata": {},
   "outputs": [],
   "source": []
  },
  {
   "cell_type": "code",
   "execution_count": null,
   "id": "0141b836",
   "metadata": {
    "tags": []
   },
   "outputs": [],
   "source": []
  },
  {
   "cell_type": "code",
   "execution_count": null,
   "id": "f8ff0fd3",
   "metadata": {},
   "outputs": [],
   "source": []
  },
  {
   "cell_type": "code",
   "execution_count": null,
   "id": "e58c2fc3",
   "metadata": {},
   "outputs": [],
   "source": []
  },
  {
   "cell_type": "code",
   "execution_count": null,
   "id": "b0f5ac34",
   "metadata": {},
   "outputs": [],
   "source": []
  }
 ],
 "metadata": {
  "kernelspec": {
   "display_name": "Python 3 (ipykernel)",
   "language": "python",
   "name": "python3"
  },
  "language_info": {
   "codemirror_mode": {
    "name": "ipython",
    "version": 3
   },
   "file_extension": ".py",
   "mimetype": "text/x-python",
   "name": "python",
   "nbconvert_exporter": "python",
   "pygments_lexer": "ipython3",
   "version": "3.11.8"
  },
  "toc": {
   "base_numbering": 1,
   "nav_menu": {},
   "number_sections": true,
   "sideBar": true,
   "skip_h1_title": true,
   "title_cell": "Table of Contents",
   "title_sidebar": "Contents",
   "toc_cell": false,
   "toc_position": {
    "height": "calc(100% - 180px)",
    "left": "10px",
    "top": "150px",
    "width": "252px"
   },
   "toc_section_display": true,
   "toc_window_display": true
  },
  "toc-showcode": false,
  "vscode": {
   "interpreter": {
    "hash": "654192688fbcf31a96b8e84b8cf32b033aa186545ea3931a27889a1dba9e83b7"
   }
  }
 },
 "nbformat": 4,
 "nbformat_minor": 5
}